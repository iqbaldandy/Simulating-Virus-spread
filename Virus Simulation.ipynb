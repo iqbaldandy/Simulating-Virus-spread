{
  "nbformat": 4,
  "nbformat_minor": 0,
  "metadata": {
    "colab": {
      "name": "Simulating a Virus spread with Python.ipynb",
      "provenance": [],
      "collapsed_sections": []
    },
    "kernelspec": {
      "name": "python3",
      "display_name": "Python 3"
    }
  },
  "cells": [
    {
      "cell_type": "markdown",
      "metadata": {
        "id": "UtebyxZYqeBH",
        "colab_type": "text"
      },
      "source": [
        "Import"
      ]
    },
    {
      "cell_type": "code",
      "metadata": {
        "id": "S2ZLbbf3qfXk",
        "colab_type": "code",
        "colab": {}
      },
      "source": [
        "#import library\n",
        "import numpy as np\n",
        "import pandas as pd\n",
        "import random\n",
        "from matplotlib import pyplot as plt\n",
        "import matplotlib.animation as animation"
      ],
      "execution_count": 0,
      "outputs": []
    },
    {
      "cell_type": "markdown",
      "metadata": {
        "id": "aXmYxlrEhM1y",
        "colab_type": "text"
      },
      "source": [
        "Inisiasi Variabel Scalar"
      ]
    },
    {
      "cell_type": "code",
      "metadata": {
        "id": "S3PAWMgDmD7d",
        "colab_type": "code",
        "colab": {}
      },
      "source": [
        "#inisiasi\n",
        "nIndividu = 200\n",
        "ratioInfected = 0.05\n",
        "movingProb = 0.8\n",
        "recoveryTime = 10\n",
        "FirstInfected = int(nIndividu * ratioInfected)\n",
        "\n",
        "xmin = 1\n",
        "xmax = 20\n",
        "ymin = 1\n",
        "ymax = 20\n",
        "xLimit= xmax-xmin\n",
        "yLimit = ymax-ymin"
      ],
      "execution_count": 0,
      "outputs": []
    },
    {
      "cell_type": "markdown",
      "metadata": {
        "id": "3OosI5Qfr8f9",
        "colab_type": "text"
      },
      "source": [
        "Inisiasi fungsi yang dibutuhkan"
      ]
    },
    {
      "cell_type": "code",
      "metadata": {
        "id": "w_gSJ_xnr-7Q",
        "colab_type": "code",
        "colab": {}
      },
      "source": [
        "#mengecek apakah di tempat tersebut ada yang positif\n",
        "def checkInfectedPlace(ListHealthy,Positions,pos):\n",
        "    for i in range(nIndividu):\n",
        "      if Positions[i][-1] == pos:\n",
        "        \n",
        "        if ListHealthy[i][len(Healthy[i])-1] == 0:\n",
        "          return True\n",
        "    \n",
        "    return False\n",
        "\n",
        "#fungsi untuk update posisi berdasarkan probabilitas\n",
        "def updatePosition(pos):\n",
        "    x,y = pos\n",
        "    rand = np.random.rand()\n",
        "    #berdasarkan moving Prob\n",
        "    if rand <= movingProb:\n",
        "      rand = np.random.rand()\n",
        "      if rand <= 0.25:\n",
        "          x+=1\n",
        "      elif rand <= 0.5:\n",
        "          y-=1\n",
        "      elif rand <= 0.75:\n",
        "          x-=1\n",
        "      else:\n",
        "          y+=1\n",
        "\n",
        "    return x,y\n",
        "\n",
        "#fungsi untuk Periodic Boundary Condition\n",
        "def PBC(x,y):\n",
        "    if x>xmax:\n",
        "        x-=xLimit\n",
        "    if x<xmin:\n",
        "        x+=xLimit\n",
        "    if y>ymax:\n",
        "        y-=yLimit\n",
        "    if y<ymin:\n",
        "        y+=yLimit\n",
        "    return x,y\n",
        "\n",
        "#fungsi untuk menghitung jumlah orang yang terinfeksi\n",
        "def countInfected(ListHealthy):\n",
        "    count = 0\n",
        "    for i in range(nIndividu):\n",
        "      if ListHealthy[i][len(ListHealthy[i])-1] == 0:\n",
        "        count += 1\n",
        "    return count\n",
        "\n",
        "def RePositions(Positions):\n",
        "    newPositions = []\n",
        "    for i in range(len(Positions[0])):\n",
        "        temp = []\n",
        "        for j in range(len(Positions)):\n",
        "            temp.append(Positions[j][i])\n",
        "        newPositions.append(temp)\n",
        "    \n",
        "    return newPositions"
      ],
      "execution_count": 0,
      "outputs": []
    },
    {
      "cell_type": "markdown",
      "metadata": {
        "id": "3diayQromFl8",
        "colab_type": "text"
      },
      "source": [
        "Inisiasi Variabel List"
      ]
    },
    {
      "cell_type": "code",
      "metadata": {
        "id": "v2ZS5tV9af8N",
        "colab_type": "code",
        "colab": {}
      },
      "source": [
        "# List yang berisi posisi masing masing individu\n",
        "Positions = []\n",
        "for i in range(nIndividu):\n",
        "    randx = random.randint(xmin, xmax)\n",
        "    randy = random.randint(ymin, ymax)\n",
        "    Positions.append([(randx,randy)])\n",
        "\n",
        "#List yang berisi status kesehatan individu\n",
        "Healthy = []\n",
        "for i in range(FirstInfected):\n",
        "    Healthy.append([0])\n",
        "for i in range(nIndividu - FirstInfected):\n",
        "    Healthy.append([1])\n",
        "\n",
        "#List yang berisi status imun individu, awalnya gapunya imun semua\n",
        "Immune = []\n",
        "for i in range(nIndividu):\n",
        "    Immune.append(0)\n",
        "\n",
        "#List yang berisi waktu terinfeksi, awalnya waktu start dari 0 semua\n",
        "InfectedTime = []\n",
        "for i in range(nIndividu):\n",
        "    InfectedTime.append(0)"
      ],
      "execution_count": 0,
      "outputs": []
    },
    {
      "cell_type": "code",
      "metadata": {
        "id": "8F8ZvlmDIg06",
        "colab_type": "code",
        "colab": {}
      },
      "source": [
        "#Jumlah yang terinfeksi\n",
        "nInfected = countInfected(Healthy)\n",
        "\n",
        "#waktu komunitas untuk sembuh\n",
        "diseaseTime = 0\n",
        "\n",
        "#riwayat jumlah ter-infeksi\n",
        "InfectedHistory = []\n",
        "\n",
        "#selama jumlah individu terinfeksi\n",
        "while nInfected > 0:\n",
        "  #untuk setiap individu\n",
        "  InfectedHistory.append(nInfected)\n",
        "  for i in range(nIndividu):\n",
        "  #update posisi berdasarkan probabilitas individu bergerak\n",
        "      new_x, new_y = updatePosition(Positions[i][-1])\n",
        "      #koreksi posisi dengan PBC\n",
        "      new_x, new_y = PBC(new_x, new_y)\n",
        "      Positions[i].append((new_x,new_y))\n",
        "      #update waktu terinfeksi untuk individu yang sudah terinfeksi\n",
        "      if Healthy[i][len(Healthy[i])-1] == 0:\n",
        "          if InfectedTime[i] < recoveryTime-1:\n",
        "              InfectedTime[i] += 1\n",
        "              Healthy[i].append(0)\n",
        "          #update status kesehatan individu - recovery\n",
        "          elif InfectedTime[i] == recoveryTime-1:\n",
        "              Healthy[i].append(1)\n",
        "              #update status imun individu\n",
        "              Immune[i] = 1\n",
        "      #update status kesehatan individu - infection\n",
        "      #hitung jarak individu sehat dan terinfeksi\n",
        "      #jika belum memiliki imun maka akan terinfeksi\n",
        "      elif (Healthy[i][len(Healthy[i])-1] == 1) and (Immune[i] == 0) and (checkInfectedPlace(Healthy,Positions,Positions[i][-1])):\n",
        "          Healthy[i].append(0)\n",
        "      elif (Healthy[i][len(Healthy[i])-1] == 1):\n",
        "          Healthy[i].append(1)\n",
        "\n",
        "  #hitung dan simpan jumlah individu terinfeksi\n",
        "  nInfected = countInfected(Healthy)\n",
        "  diseaseTime += 1\n",
        "\n",
        "InfectedHistory.append(0)\n",
        "\n",
        "#waktu simulasi\n",
        "SimTime = []\n",
        "for i in range(len(InfectedHistory)):\n",
        "  SimTime.append(i+1)\n"
      ],
      "execution_count": 0,
      "outputs": []
    },
    {
      "cell_type": "code",
      "metadata": {
        "id": "-OHdzHZMAugL",
        "colab_type": "code",
        "colab": {}
      },
      "source": [
        "InfectedList = []\n",
        "for i in range(len(Healthy)):\n",
        "  temp = []\n",
        "  for j in range(len(Healthy[0])):\n",
        "    if Healthy[i][j] == 0:\n",
        "      temp.append(Positions[i][j])\n",
        "    elif Healthy[i][j] == 1:\n",
        "      temp.append((-1,-1))\n",
        "  \n",
        "  InfectedList.append(temp)\n"
      ],
      "execution_count": 0,
      "outputs": []
    },
    {
      "cell_type": "markdown",
      "metadata": {
        "id": "Dr8Qgd99mJYN",
        "colab_type": "text"
      },
      "source": [
        "Iterasi"
      ]
    },
    {
      "cell_type": "code",
      "metadata": {
        "id": "XPCXFFk5mKu9",
        "colab_type": "code",
        "outputId": "9a7b904b-641c-4707-d617-4f638458e0c3",
        "colab": {
          "base_uri": "https://localhost:8080/",
          "height": 350
        }
      },
      "source": [
        "newpositions = RePositions(Positions)\n",
        "newInfected = RePositions(InfectedList)\n",
        "\n",
        "#define the figure that will contain the 2 plot\n",
        "fig = plt.figure(figsize=(10,5))\n",
        "leftplot = fig.add_subplot(1,2,1)\n",
        "rightplot = fig.add_subplot(1,2,2)\n",
        "\n",
        "#define list for line graph data\n",
        "a, b = [],[]\n",
        "head = leftplot.scatter([],[],c= 'blue')\n",
        "head2 = leftplot.scatter([],[],c= 'red')\n",
        "line2, = rightplot.plot([],[],'red')\n",
        "\n",
        "#leftplot config\n",
        "leftplot.set_xlim(0,21)\n",
        "leftplot.set_ylim(0,21)\n",
        "\n",
        "#rightplot config\n",
        "rightplot.set_xlim(0,len(SimTime)+5)\n",
        "rightplot.set_ylim(0,200)\n",
        "rightplot.set_xlabel('Days')\n",
        "rightplot.set_ylabel('Infected')\n",
        "rightplot.set_title('Infected Graph')\n",
        "\n",
        "#animate function \n",
        "def animate(i):\n",
        "    a.append(SimTime[i])\n",
        "    b.append(InfectedHistory[i])\n",
        "    head.set_offsets(newpositions[i])\n",
        "    head2.set_offsets(newInfected[i])\n",
        "    \n",
        "    line2.set_data(a,b)\n",
        "\n",
        "#show animate function\n",
        "ani = animation.FuncAnimation(fig, animate, frames=len(SimTime), interval=300, repeat= False) \n",
        "plt.show() "
      ],
      "execution_count": 7,
      "outputs": [
        {
          "output_type": "display_data",
          "data": {
            "image/png": "[encoded data removed]",
            "text/plain": [
              "<Figure size 720x360 with 2 Axes>"
            ]
          },
          "metadata": {
            "tags": [],
            "needs_background": "light"
          }
        }
      ]
    },
    {
      "cell_type": "code",
      "metadata": {
        "id": "MzRCl_pm4PXa",
        "colab_type": "code",
        "colab": {}
      },
      "source": [
        "#save animation into mp4 file\n",
        "Writer = animation.writers['ffmpeg']\n",
        "writer = Writer(fps=5, metadata=dict(artist='Me'), bitrate=1800 )\n",
        "ani.save('mosi.mp4', writer=writer)"
      ],
      "execution_count": 0,
      "outputs": []
    },
    {
      "cell_type": "code",
      "metadata": {
        "id": "nW4CLLBHi-h0",
        "colab_type": "code",
        "outputId": "a62f3fea-6090-4a2b-aa62-55e475ad399a",
        "colab": {
          "base_uri": "https://localhost:8080/",
          "height": 51
        }
      },
      "source": [
        "print(\"Batas Atas Jumlah Ter-infeksi : \", max(InfectedHistory))\n",
        "print(\"Waktu Simulasi : \", max(SimTime),\" Hari\")"
      ],
      "execution_count": 9,
      "outputs": [
        {
          "output_type": "stream",
          "text": [
            "Batas Atas Jumlah Ter-infeksi :  66\n",
            "Waktu Simulasi :  61  Hari\n"
          ],
          "name": "stdout"
        }
      ]
    },
    {
      "cell_type": "code",
      "metadata": {
        "id": "c1oDWQJZjeDC",
        "colab_type": "code",
        "colab": {}
      },
      "source": [
        ""
      ],
      "execution_count": 0,
      "outputs": []
    }
  ]
}